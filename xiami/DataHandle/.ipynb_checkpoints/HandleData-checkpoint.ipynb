{
 "cells": [
  {
   "cell_type": "code",
   "execution_count": 1,
   "metadata": {},
   "outputs": [
    {
     "data": {
      "text/html": [
       "<div>\n",
       "<style>\n",
       "    .dataframe thead tr:only-child th {\n",
       "        text-align: right;\n",
       "    }\n",
       "\n",
       "    .dataframe thead th {\n",
       "        text-align: left;\n",
       "    }\n",
       "\n",
       "    .dataframe tbody tr th {\n",
       "        vertical-align: top;\n",
       "    }\n",
       "</style>\n",
       "<table border=\"1\" class=\"dataframe\">\n",
       "  <thead>\n",
       "    <tr style=\"text-align: right;\">\n",
       "      <th></th>\n",
       "      <th>songname</th>\n",
       "      <th>count</th>\n",
       "    </tr>\n",
       "    <tr>\n",
       "      <th>id</th>\n",
       "      <th></th>\n",
       "      <th></th>\n",
       "    </tr>\n",
       "  </thead>\n",
       "  <tbody>\n",
       "    <tr>\n",
       "      <th>101636444</th>\n",
       "      <td>#imissyousobad-原子邦妮 Astro Bunny</td>\n",
       "      <td>1</td>\n",
       "    </tr>\n",
       "    <tr>\n",
       "      <th>101636444</th>\n",
       "      <td>Airplane-J-Hope</td>\n",
       "      <td>2</td>\n",
       "    </tr>\n",
       "    <tr>\n",
       "      <th>101636444</th>\n",
       "      <td>All Your Dreams 2018..-凡仔</td>\n",
       "      <td>1</td>\n",
       "    </tr>\n",
       "    <tr>\n",
       "      <th>101636444</th>\n",
       "      <td>Bad Boy（原唱：Red Velve..-凡仔</td>\n",
       "      <td>1</td>\n",
       "    </tr>\n",
       "    <tr>\n",
       "      <th>101636444</th>\n",
       "      <td>Bad-Christopher</td>\n",
       "      <td>1</td>\n",
       "    </tr>\n",
       "  </tbody>\n",
       "</table>\n",
       "</div>"
      ],
      "text/plain": [
       "                                  songname  count\n",
       "id                                               \n",
       "101636444  #imissyousobad-原子邦妮 Astro Bunny      1\n",
       "101636444                  Airplane-J-Hope      2\n",
       "101636444        All Your Dreams 2018..-凡仔      1\n",
       "101636444        Bad Boy（原唱：Red Velve..-凡仔      1\n",
       "101636444                  Bad-Christopher      1"
      ]
     },
     "execution_count": 1,
     "metadata": {},
     "output_type": "execute_result"
    }
   ],
   "source": [
    "import numpy as np \n",
    "import pandas as pd \n",
    "df = pd.read_csv('test.txt',sep='\\t' ,header=-1  )\n",
    "df.columns = ['id','songname','count']\n",
    "df = pd.DataFrame( df.set_index('id') )\n",
    "## 求余弦相似度 \n",
    "id = 117047  \n",
    "res = list()\n",
    "alluser = np.unique( df.index)\n",
    "# song_a =df.loc[id][ 'songname'].values \n",
    "map1 =dict() \n",
    "map2 =dict()\n",
    "song_a = df.loc[id,['songname','count']].values\n",
    "for song in song_a:\n",
    "    map1[song[0]] = song[1]\n",
    "sumb = np.sum( [ i**2 for i in  map1.values() ] )  \n",
    "res =dict() \n",
    "for user in alluser : \n",
    "    if(user == id ):\n",
    "        continue\n",
    "    map2.clear()\n",
    "    suma =0 \n",
    "    \n",
    "    sumc =0 \n",
    "    song_b =  df.loc[user,['songname','count']].values\n",
    "    if len(song_b)<=2:\n",
    "        continue\n",
    "    for song in song_b:\n",
    "#         print(song[0]+\" \"+str(song[1]) )\n",
    "        map2[song[0]]=song[1]\n",
    "\n",
    "    for song in map1.keys() :\n",
    "        if(song in map2.keys() ): \n",
    "            suma =suma + map1.get(song)*map2.get(song) \n",
    "    sumc = np.sum( [ i**2 for i in  map2.values() ] ) \n",
    "    res[user] = suma/(np.sqrt(sumb)*np.sqrt(sumc)) \n",
    "res1 = sorted(res.items(), key=lambda d: d[1],reverse=True) \n",
    "res1 = [x for x in res1 if(x[1]>0) ]\n",
    "res1 = res1[:20] ## 取前K个相似用户\n",
    "## 接下来是用最近邻用户的评分来给目标用户进行推荐\n",
    "map_score = dict() \n",
    "for i in res1 : \n",
    "    map_score[i[0]]=i[1]\n",
    "user_topk = [x[0] for x in res1 ] \n",
    "res_recommend =dict() \n",
    "for user in user_topk : \n",
    "    if(user == id ):\n",
    "        continue\n",
    "    map2.clear()\n",
    "    suma =0 \n",
    "    \n",
    "    sumc =0 \n",
    "    song_b =  df.loc[user,['songname','count']].values\n",
    "    if len(song_b)<=2:\n",
    "        continue\n",
    "    for song in song_b:\n",
    "        # songname  count \n",
    "        map2[song[0]]=song[1]\n",
    "        if song[0] in res_recommend.keys(): \n",
    "            res_recommend[song[0]]+=song[1]*map_score[user] \n",
    "        else : \n",
    "            res_recommend[song[0]] = song[1]*map_score[user]\n",
    "                  \n",
    "res_recommend=sorted(res_recommend.items() , key=lambda x: x[1] ,reverse= True)\n",
    "res_recommend"
   ]
  },
  {
   "cell_type": "code",
   "execution_count": null,
   "metadata": {},
   "outputs": [],
   "source": []
  },
  {
   "cell_type": "code",
   "execution_count": 15,
   "metadata": {
    "scrolled": true
   },
   "outputs": [],
   "source": []
  },
  {
   "cell_type": "code",
   "execution_count": null,
   "metadata": {},
   "outputs": [],
   "source": []
  },
  {
   "cell_type": "code",
   "execution_count": null,
   "metadata": {
    "collapsed": true
   },
   "outputs": [],
   "source": []
  },
  {
   "cell_type": "code",
   "execution_count": null,
   "metadata": {
    "collapsed": true
   },
   "outputs": [],
   "source": []
  }
 ],
 "metadata": {
  "kernelspec": {
   "display_name": "Python 3",
   "language": "python",
   "name": "python3"
  },
  "language_info": {
   "codemirror_mode": {
    "name": "ipython",
    "version": 3
   },
   "file_extension": ".py",
   "mimetype": "text/x-python",
   "name": "python",
   "nbconvert_exporter": "python",
   "pygments_lexer": "ipython3",
   "version": "3.6.3"
  }
 },
 "nbformat": 4,
 "nbformat_minor": 2
}
